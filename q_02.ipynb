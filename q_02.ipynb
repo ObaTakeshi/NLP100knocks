{
 "cells": [
  {
   "cell_type": "raw",
   "metadata": {},
   "source": [
    "10.行数をカウントせよ．確認にはwcコマンドを用いよ．"
   ]
  },
  {
   "cell_type": "code",
   "execution_count": 1,
   "metadata": {
    "collapsed": false
   },
   "outputs": [
    {
     "name": "stdout",
     "output_type": "stream",
     "text": [
      "24\n"
     ]
    }
   ],
   "source": [
    "with open('hightemp.txt', 'r') as f:\n",
    "    print(len(f.readlines()))"
   ]
  },
  {
   "cell_type": "raw",
   "metadata": {},
   "source": [
    "wc -l hightemp.txt"
   ]
  },
  {
   "cell_type": "raw",
   "metadata": {},
   "source": [
    "11.タブ1文字につきスペース1文字に置換せよ．確認にはsedコマンド，trコマンド，もしくはexpandコマンドを用いよ．"
   ]
  },
  {
   "cell_type": "code",
   "execution_count": 2,
   "metadata": {
    "collapsed": false
   },
   "outputs": [
    {
     "name": "stdout",
     "output_type": "stream",
     "text": [
      "高知県 江川崎 41 2013-08-12\n",
      "埼玉県 熊谷 40.9 2007-08-16\n",
      "岐阜県 多治見 40.9 2007-08-16\n",
      "山形県 山形 40.8 1933-07-25\n",
      "山梨県 甲府 40.7 2013-08-10\n",
      "和歌山県 かつらぎ 40.6 1994-08-08\n",
      "静岡県 天竜 40.6 1994-08-04\n",
      "山梨県 勝沼 40.5 2013-08-10\n",
      "埼玉県 越谷 40.4 2007-08-16\n",
      "群馬県 館林 40.3 2007-08-16\n",
      "群馬県 上里見 40.3 1998-07-04\n",
      "愛知県 愛西 40.3 1994-08-05\n",
      "千葉県 牛久 40.2 2004-07-20\n",
      "静岡県 佐久間 40.2 2001-07-24\n",
      "愛媛県 宇和島 40.2 1927-07-22\n",
      "山形県 酒田 40.1 1978-08-03\n",
      "岐阜県 美濃 40 2007-08-16\n",
      "群馬県 前橋 40 2001-07-24\n",
      "千葉県 茂原 39.9 2013-08-11\n",
      "埼玉県 鳩山 39.9 1997-07-05\n",
      "大阪府 豊中 39.9 1994-08-08\n",
      "山梨県 大月 39.9 1990-07-19\n",
      "山形県 鶴岡 39.9 1978-08-03\n",
      "愛知県 名古屋 39.9 1942-08-02\n",
      "\n"
     ]
    }
   ],
   "source": [
    "with open('hightemp.txt') as f:\n",
    "    print(f.read().replace('\\t', ' '))"
   ]
  },
  {
   "cell_type": "raw",
   "metadata": {},
   "source": [
    "sed -e 's/\\t/ /g' hightemp.txt"
   ]
  },
  {
   "cell_type": "raw",
   "metadata": {},
   "source": [
    "12.各行の1列目だけを抜き出したものをcol1.txtに，2列目だけを抜き出したものをcol2.txtとしてファイルに保存せよ．確認にはcutコマンドを用いよ．"
   ]
  },
  {
   "cell_type": "code",
   "execution_count": 3,
   "metadata": {
    "collapsed": true
   },
   "outputs": [],
   "source": [
    "col1 = []\n",
    "col2 = []\n",
    "with open('hightemp.txt') as f:\n",
    "    for i in f.readlines():\n",
    "        line = i.split()\n",
    "        col1.append(line[0])\n",
    "        col2.append(line[1])\n",
    "with open('col1.txt', 'w') as f:\n",
    "    f.writelines('\\n'.join(col1))\n",
    "with open('col2.txt', 'w') as f:\n",
    "    f.writelines('\\n'.join(col2))"
   ]
  },
  {
   "cell_type": "raw",
   "metadata": {},
   "source": [
    "cut -f 1 hightemp.txt > col1.txt\n",
    "cut -f 2 hightemp.txt > col2.txt"
   ]
  },
  {
   "cell_type": "raw",
   "metadata": {},
   "source": [
    "13.12で作ったcol1.txtとcol2.txtを結合し，元のファイルの1列目と2列目をタブ区切りで並べたテキストファイルを作成せよ．確認にはpasteコマンドを用いよ．"
   ]
  },
  {
   "cell_type": "code",
   "execution_count": 4,
   "metadata": {
    "collapsed": false
   },
   "outputs": [],
   "source": [
    "text_13 = []\n",
    "with open('col1.txt') as f1:\n",
    "    with open('col2.txt') as f2:\n",
    "        t1 = f1.readlines()\n",
    "        t2 = f2.readlines()\n",
    "        for i in range(len(t1)):\n",
    "            if i < len(t2):\n",
    "                text_13.append(t1[i].replace('\\n', '\\t') + t2[i])\n",
    "with open('col12.txt', 'w') as f:\n",
    "    f.writelines('\\n'.join(text_13))"
   ]
  },
  {
   "cell_type": "raw",
   "metadata": {},
   "source": [
    "paste col1.txt col2.txt > col12.txt"
   ]
  },
  {
   "cell_type": "raw",
   "metadata": {},
   "source": [
    "14.自然数Nをコマンドライン引数などの手段で受け取り，入力のうち先頭のN行だけを表示せよ．確認にはheadコマンドを用いよ．"
   ]
  },
  {
   "cell_type": "code",
   "execution_count": 5,
   "metadata": {
    "collapsed": false
   },
   "outputs": [
    {
     "name": "stdout",
     "output_type": "stream",
     "text": [
      "高知県\t江川崎\t41\t2013-08-12\n",
      "埼玉県\t熊谷\t40.9\t2007-08-16\n",
      "岐阜県\t多治見\t40.9\t2007-08-16\n"
     ]
    }
   ],
   "source": [
    "N_14 = 3\n",
    "with open('hightemp.txt') as f:\n",
    "    lines = f.readlines()\n",
    "    for i in range(N_14):\n",
    "        print(lines[i], end = '')"
   ]
  },
  {
   "cell_type": "raw",
   "metadata": {},
   "source": [
    "head -n 3 hightemp.txt"
   ]
  },
  {
   "cell_type": "raw",
   "metadata": {},
   "source": [
    "15.自然数Nをコマンドライン引数などの手段で受け取り，入力のうち末尾のN行だけを表示せよ．確認にはtailコマンドを用いよ．"
   ]
  },
  {
   "cell_type": "code",
   "execution_count": 6,
   "metadata": {
    "collapsed": false
   },
   "outputs": [
    {
     "name": "stdout",
     "output_type": "stream",
     "text": [
      "山梨県\t大月\t39.9\t1990-07-19\n",
      "山形県\t鶴岡\t39.9\t1978-08-03\n",
      "愛知県\t名古屋\t39.9\t1942-08-02\n"
     ]
    }
   ],
   "source": [
    "N_15 = 3\n",
    "with open('hightemp.txt') as f:\n",
    "    lines = f.readlines()\n",
    "    for i in range(N_15):\n",
    "        print(lines[len(lines) - N_15 + i], end = '')"
   ]
  },
  {
   "cell_type": "raw",
   "metadata": {},
   "source": [
    "tail -n 3 hightemp.txt"
   ]
  },
  {
   "cell_type": "raw",
   "metadata": {},
   "source": [
    "16.自然数Nをコマンドライン引数などの手段で受け取り，入力のファイルを行単位でN分割せよ．同様の処理をsplitコマンドで実現せよ．"
   ]
  },
  {
   "cell_type": "code",
   "execution_count": 7,
   "metadata": {
    "collapsed": false,
    "scrolled": true
   },
   "outputs": [],
   "source": [
    "def chunked(iterable, n):\n",
    "    return [iterable[x:x + n] for x in range(0, len(iterable), n)]\n",
    "\n",
    "N_16 = 10\n",
    "with open('hightemp.txt') as f:\n",
    "    lines = f.readlines()\n",
    "    for i, text in enumerate(chunked(lines, N_16)):\n",
    "        with open('hightemp-' + str(i) + '.txt', 'w') as wf:\n",
    "            wf.writelines(text)"
   ]
  },
  {
   "cell_type": "raw",
   "metadata": {},
   "source": [
    "split -l 10 hightemp.txt hightemp-"
   ]
  },
  {
   "cell_type": "raw",
   "metadata": {},
   "source": [
    "17.1列目の文字列の種類（異なる文字列の集合）を求めよ．確認にはsort, uniqコマンドを用いよ．"
   ]
  },
  {
   "cell_type": "code",
   "execution_count": 8,
   "metadata": {
    "collapsed": false
   },
   "outputs": [
    {
     "name": "stdout",
     "output_type": "stream",
     "text": [
      "高知県\n",
      "埼玉県\n",
      "岐阜県\n",
      "山形県\n",
      "山梨県\n",
      "和歌山県\n",
      "静岡県\n",
      "群馬県\n",
      "愛知県\n",
      "千葉県\n",
      "愛媛県\n",
      "大阪府\n"
     ]
    }
   ],
   "source": [
    "with open('hightemp.txt') as f:\n",
    "    text = []\n",
    "    for i in f.readlines():\n",
    "        x = i.split()[0]\n",
    "        if x not in text:\n",
    "            text.append(x)\n",
    "for i in text:\n",
    "    print(i)"
   ]
  },
  {
   "cell_type": "raw",
   "metadata": {},
   "source": [
    "cut -f 1 hightemp.txt | sort | uniq"
   ]
  },
  {
   "cell_type": "raw",
   "metadata": {},
   "source": [
    "18.各行を3コラム目の数値の逆順で整列せよ（注意: 各行の内容は変更せずに並び替えよ）．確認にはsortコマンドを用いよ（この問題はコマンドで実行した時の結果と合わなくてもよい）．"
   ]
  },
  {
   "cell_type": "code",
   "execution_count": 23,
   "metadata": {
    "collapsed": false
   },
   "outputs": [
    {
     "name": "stdout",
     "output_type": "stream",
     "text": [
      "[['高知県', '江川崎', '41', '2013-08-12'], ['埼玉県', '熊谷', '40.9', '2007-08-16'], ['岐阜県', '多治見', '40.9', '2007-08-16'], ['山形県', '山形', '40.8', '1933-07-25'], ['山梨県', '甲府', '40.7', '2013-08-10'], ['和歌山県', 'かつらぎ', '40.6', '1994-08-08'], ['静岡県', '天竜', '40.6', '1994-08-04'], ['山梨県', '勝沼', '40.5', '2013-08-10'], ['埼玉県', '越谷', '40.4', '2007-08-16'], ['群馬県', '館林', '40.3', '2007-08-16'], ['群馬県', '上里見', '40.3', '1998-07-04'], ['愛知県', '愛西', '40.3', '1994-08-05'], ['千葉県', '牛久', '40.2', '2004-07-20'], ['静岡県', '佐久間', '40.2', '2001-07-24'], ['愛媛県', '宇和島', '40.2', '1927-07-22'], ['山形県', '酒田', '40.1', '1978-08-03'], ['岐阜県', '美濃', '40', '2007-08-16'], ['群馬県', '前橋', '40', '2001-07-24'], ['千葉県', '茂原', '39.9', '2013-08-11'], ['埼玉県', '鳩山', '39.9', '1997-07-05'], ['大阪府', '豊中', '39.9', '1994-08-08'], ['山梨県', '大月', '39.9', '1990-07-19'], ['山形県', '鶴岡', '39.9', '1978-08-03'], ['愛知県', '名古屋', '39.9', '1942-08-02']]\n"
     ]
    }
   ],
   "source": [
    "with open('hightemp.txt') as f:\n",
    "    list = f.readlines()\n",
    "    text = []\n",
    "    for l in list:\n",
    "        text.append(l.split())\n",
    "    text.sort(key=lambda x:-float(x[2]))\n",
    "    print(text)"
   ]
  },
  {
   "cell_type": "raw",
   "metadata": {},
   "source": [
    "sort -gr -k 3,3 hightemp.txt"
   ]
  },
  {
   "cell_type": "raw",
   "metadata": {},
   "source": [
    "19.各行の1列目の文字列の出現頻度を求め，その高い順に並べて表示せよ．確認にはcut, uniq, sortコマンドを用いよ．"
   ]
  },
  {
   "cell_type": "code",
   "execution_count": 28,
   "metadata": {
    "collapsed": false
   },
   "outputs": [
    {
     "name": "stdout",
     "output_type": "stream",
     "text": [
      "山梨県\n",
      "山形県\n",
      "埼玉県\n",
      "群馬県\n",
      "千葉県\n",
      "愛知県\n",
      "静岡県\n",
      "岐阜県\n",
      "愛媛県\n",
      "高知県\n",
      "大阪府\n",
      "和歌山県\n"
     ]
    }
   ],
   "source": [
    "from collections import Counter\n",
    "with open('hightemp.txt') as f:\n",
    "    text = []\n",
    "    for i in f.readlines():\n",
    "        x = i.split()[0]\n",
    "        text.append(x)\n",
    "appear_sort = Counter(text)\n",
    "for word in appear_sort.most_common():\n",
    "    print(word[0])"
   ]
  },
  {
   "cell_type": "code",
   "execution_count": null,
   "metadata": {
    "collapsed": true
   },
   "outputs": [],
   "source": [
    "cut -f 1 hightemp.txt | sort | uniq -c | sort -nr"
   ]
  }
 ],
 "metadata": {
  "kernelspec": {
   "display_name": "Python 3",
   "language": "python",
   "name": "python3"
  },
  "language_info": {
   "codemirror_mode": {
    "name": "ipython",
    "version": 3
   },
   "file_extension": ".py",
   "mimetype": "text/x-python",
   "name": "python",
   "nbconvert_exporter": "python",
   "pygments_lexer": "ipython3",
   "version": "3.5.1"
  }
 },
 "nbformat": 4,
 "nbformat_minor": 0
}
