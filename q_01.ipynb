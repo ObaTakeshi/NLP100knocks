{
 "cells": [
  {
   "cell_type": "raw",
   "metadata": {},
   "source": [
    "00.文字列\"stressed\"の文字を逆に（末尾から先頭に向かって）並べた文字列を得よ．"
   ]
  },
  {
   "cell_type": "code",
   "execution_count": 1,
   "metadata": {
    "collapsed": false,
    "scrolled": false
   },
   "outputs": [
    {
     "data": {
      "text/plain": [
       "'desserts'"
      ]
     },
     "execution_count": 1,
     "metadata": {},
     "output_type": "execute_result"
    }
   ],
   "source": [
    "\"stressed\"[::-1]"
   ]
  },
  {
   "cell_type": "raw",
   "metadata": {},
   "source": [
    "01.「パタトクカシーー」という文字列の1,3,5,7文字目を取り出して連結した文字列を得よ．"
   ]
  },
  {
   "cell_type": "code",
   "execution_count": 2,
   "metadata": {
    "collapsed": false
   },
   "outputs": [
    {
     "data": {
      "text/plain": [
       "'パトカー'"
      ]
     },
     "execution_count": 2,
     "metadata": {},
     "output_type": "execute_result"
    }
   ],
   "source": [
    "'パタトクカシーー'[::2]"
   ]
  },
  {
   "cell_type": "raw",
   "metadata": {},
   "source": [
    "02.「パトカー」＋「タクシー」の文字を先頭から交互に連結して文字列「パタトクカシーー」を得よ．"
   ]
  },
  {
   "cell_type": "code",
   "execution_count": 3,
   "metadata": {
    "collapsed": false
   },
   "outputs": [
    {
     "name": "stdout",
     "output_type": "stream",
     "text": [
      "パタトクカシーー"
     ]
    }
   ],
   "source": [
    "for i in range(4):\n",
    "   print( 'パトカー'[i] + 'タクシー'[i], end='')"
   ]
  },
  {
   "cell_type": "code",
   "execution_count": 4,
   "metadata": {
    "collapsed": false
   },
   "outputs": [
    {
     "name": "stdout",
     "output_type": "stream",
     "text": [
      "パタトクカシーー\n"
     ]
    }
   ],
   "source": [
    "text_02 = \"\"\n",
    "for i in zip('パトカー', 'タクシー'):\n",
    "    for l in i:\n",
    "        text_02 += l\n",
    "print(text_02)"
   ]
  },
  {
   "cell_type": "raw",
   "metadata": {},
   "source": [
    "03.\"Now I need a drink, alcoholic of course, after the heavy lectures involving quantum mechanics.\"という文を単語に分解し，各単語の（アルファベットの）文字数を先頭から出現順に並べたリストを作成せよ．"
   ]
  },
  {
   "cell_type": "code",
   "execution_count": 5,
   "metadata": {
    "collapsed": false
   },
   "outputs": [
    {
     "data": {
      "text/plain": [
       "['I',\n",
       " 'a',\n",
       " 'of',\n",
       " 'Now',\n",
       " 'the',\n",
       " 'need',\n",
       " 'drink',\n",
       " 'after',\n",
       " 'heavy',\n",
       " 'course',\n",
       " 'quantum',\n",
       " 'lectures',\n",
       " 'alcoholic',\n",
       " 'involving',\n",
       " 'mechanics']"
      ]
     },
     "execution_count": 5,
     "metadata": {},
     "output_type": "execute_result"
    }
   ],
   "source": [
    "sorted(\"Now I need a drink, alcoholic of course, after the heavy lectures involving quantum mechanics.\".replace('.', '').replace(',', '').split(),\n",
    "       key=lambda x: len(x))"
   ]
  },
  {
   "cell_type": "raw",
   "metadata": {},
   "source": [
    "04.\"Hi He Lied Because Boron Could Not Oxidize Fluorine. New Nations Might Also Sign Peace Security Clause. Arthur King Can.\"という文を単語に分解し，1, 5, 6, 7, 8, 9, 15, 16, 19番目の単語は先頭の1文字，それ以外の単語は先頭に2文字を取り出し，取り出した文字列から単語の位置（先頭から何番目の単語か）への連想配列（辞書型もしくはマップ型）を作成せよ．"
   ]
  },
  {
   "cell_type": "code",
   "execution_count": 6,
   "metadata": {
    "collapsed": false
   },
   "outputs": [
    {
     "name": "stdout",
     "output_type": "stream",
     "text": [
      "{1: 'H', 2: 'He', 3: 'Li', 4: 'Be', 5: 'B', 6: 'C', 7: 'N', 8: 'O', 9: 'F', 10: 'Ne', 11: 'Na', 12: 'Mi', 13: 'Al', 14: 'Si', 15: 'P', 16: 'S', 17: 'Cl', 18: 'Ar', 19: 'K', 20: 'Ca'}\n"
     ]
    }
   ],
   "source": [
    "strArray_04 = \"Hi He Lied Because Boron Could Not Oxidize Fluorine. New Nations Might Also Sign Peace Security Clause. Arthur King Can.\".replace('.', '').split()\n",
    "dict_04 = {}\n",
    "for i in range(len(strArray_04)):\n",
    "    if i+1 in [1, 5, 6, 7, 8, 9, 15, 16, 19]:\n",
    "        dict_04.setdefault(i+1, strArray_04[i][:1:])\n",
    "    else:\n",
    "        dict_04.setdefault(i+1, strArray_04[i][:2:])\n",
    "print(dict_04)"
   ]
  },
  {
   "cell_type": "raw",
   "metadata": {},
   "source": [
    "05.与えられたシーケンス（文字列やリストなど）からn-gramを作る関数を作成せよ．この関数を用い，\"I am an NLPer\"という文から単語bi-gram，文字bi-gramを得よ．"
   ]
  },
  {
   "cell_type": "code",
   "execution_count": 7,
   "metadata": {
    "collapsed": false
   },
   "outputs": [
    {
     "name": "stdout",
     "output_type": "stream",
     "text": [
      "(['I am', 'am an', 'an NLPer', 'NLPer'], ['I ', ' a', 'am', 'm ', ' a', 'an', 'n ', ' N', 'NL', 'LP', 'Pe', 'er', 'r'])\n"
     ]
    }
   ],
   "source": [
    "def q_05(text):\n",
    "    word_gram = []\n",
    "    textArray = text.split()\n",
    "    for i in range(len(textArray)):\n",
    "        if i+1 in range(len(textArray)):\n",
    "            word_gram.append(textArray[i] + ' ' + textArray[i+1])\n",
    "        else:\n",
    "            word_gram.append(textArray[i])\n",
    "            \n",
    "    chara_gram = []\n",
    "    for i in range(len(text)):\n",
    "        if i+1 in range(len(text)):\n",
    "            chara_gram.append(text[i] + text[i+1])\n",
    "        else:\n",
    "            chara_gram.append(text[i])\n",
    "    return word_gram, chara_gram\n",
    "\n",
    "print(q_05(\"I am an NLPer\"))"
   ]
  },
  {
   "cell_type": "raw",
   "metadata": {},
   "source": [
    "06.\"paraparaparadise\"と\"paragraph\"に含まれる文字bi-gramの集合を，それぞれ, XとYとして求め，XとYの和集合，積集合，差集合を求めよ．さらに，'se'というbi-gramがXおよびYに含まれるかどうかを調べよ．"
   ]
  },
  {
   "cell_type": "code",
   "execution_count": 8,
   "metadata": {
    "collapsed": false
   },
   "outputs": [
    {
     "name": "stdout",
     "output_type": "stream",
     "text": [
      "{'is', 'ar', 'ph', 'e', 'ra', 'ad', 'se', 'pa', 'ap', 'h', 'di', 'gr', 'ag'}\n",
      "{'ra', 'pa', 'ar', 'ap'}\n",
      "{'se', 'di', 'ad', 'e', 'is'}\n",
      "True\n",
      "False\n"
     ]
    }
   ],
   "source": [
    "x_06 = q_05(\"paraparaparadise\")[1]\n",
    "y_06 = q_05(\"paragraph\")[1]\n",
    "\n",
    "union_06 = set(x_06 + y_06)\n",
    "print(union_06)\n",
    "\n",
    "intersection_06 = set(x_06) & set(y_06)\n",
    "print(intersection_06)\n",
    "\n",
    "difference_06 = set(x_06) - set(y_06)\n",
    "print(difference_06)\n",
    "\n",
    "print('se' in x_06)\n",
    "print('se' in y_06)"
   ]
  },
  {
   "cell_type": "raw",
   "metadata": {},
   "source": [
    "07.引数x, y, zを受け取り「x時のyはz」という文字列を返す関数を実装せよ．さらに，x=12, y=\"気温\", z=22.4として，実行結果を確認せよ．"
   ]
  },
  {
   "cell_type": "code",
   "execution_count": 9,
   "metadata": {
    "collapsed": false
   },
   "outputs": [
    {
     "name": "stdout",
     "output_type": "stream",
     "text": [
      "12時の気温は22.4\n"
     ]
    }
   ],
   "source": [
    "def q_07(x, y, z):\n",
    "    return str(x) + '時の' + str(y) + 'は' + str(z)\n",
    "\n",
    "print(q_07(12, '気温', 22.4))"
   ]
  },
  {
   "cell_type": "raw",
   "metadata": {},
   "source": [
    "08.与えられた文字列の各文字を，以下の仕様で変換する関数cipherを実装せよ．\n",
    "・英小文字ならば(219 - 文字コード)の文字に置換\n",
    "・その他の文字はそのまま出力\n",
    "この関数を用い，英語のメッセージを暗号化・復号化せよ．"
   ]
  },
  {
   "cell_type": "code",
   "execution_count": 10,
   "metadata": {
    "collapsed": false
   },
   "outputs": [
    {
     "name": "stdout",
     "output_type": "stream",
     "text": [
      "122114U\n"
     ]
    }
   ],
   "source": [
    "def cipher(text):\n",
    "    crypt = \"\"\n",
    "    for  i in text:\n",
    "        if i.islower():\n",
    "            crypt += str(219 - ord(i))\n",
    "        else:\n",
    "            crypt += i\n",
    "    return crypt\n",
    "\n",
    "print(cipher('aiU'))"
   ]
  },
  {
   "cell_type": "raw",
   "metadata": {},
   "source": [
    "09.スペースで区切られた単語列に対して，各単語の先頭と末尾の文字は残し，それ以外の文字の順序をランダムに並び替えるプログラムを作成せよ．ただし，長さが４以下の単語は並び替えないこととする．適当な英語の文（例えば\"I couldn't believe that I could actually understand what I was reading : the phenomenal power of the human mind .\"）を与え，その実行結果を確認せよ．"
   ]
  },
  {
   "cell_type": "code",
   "execution_count": 11,
   "metadata": {
    "collapsed": false
   },
   "outputs": [
    {
     "name": "stdout",
     "output_type": "stream",
     "text": [
      "I cunldo't beeilve that I colud aatuclly utadnsrned what I was rnadeig : the paeenmnhol pweor of the haumn mind . \n"
     ]
    }
   ],
   "source": [
    "import random\n",
    "text_09 = \"I couldn't believe that I could actually understand what I was reading : the phenomenal power of the human mind .\".split()\n",
    "random_text_09 = \"\"\n",
    "for i in text_09:\n",
    "    if len(i) > 4:\n",
    "        medium = i[1:len(i)-1:]\n",
    "        random_text_09 += (i[0] + ''.join(random.sample(medium, len(medium))) + i[-1] + ' ')\n",
    "    else:\n",
    "        random_text_09 += (i + ' ')\n",
    "        \n",
    "print(random_text_09)"
   ]
  }
 ],
 "metadata": {
  "kernelspec": {
   "display_name": "Python 3",
   "language": "python",
   "name": "python3"
  },
  "language_info": {
   "codemirror_mode": {
    "name": "ipython",
    "version": 3
   },
   "file_extension": ".py",
   "mimetype": "text/x-python",
   "name": "python",
   "nbconvert_exporter": "python",
   "pygments_lexer": "ipython3",
   "version": "3.5.1"
  }
 },
 "nbformat": 4,
 "nbformat_minor": 0
}
