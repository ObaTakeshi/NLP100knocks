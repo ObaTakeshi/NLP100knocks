{
 "cells": [
  {
   "cell_type": "code",
   "execution_count": 1,
   "metadata": {
    "collapsed": false
   },
   "outputs": [],
   "source": [
    "import MeCab\n",
    "with open('neko.txt') as data_file, open('neko.txt.mecab', mode='w') as out_file:\n",
    "        mecab = MeCab.Tagger()\n",
    "        out_file.write(mecab.parse(data_file.read()))"
   ]
  },
  {
   "cell_type": "raw",
   "metadata": {},
   "source": [
    "30.形態素解析結果（neko.txt.mecab）を読み込むプログラムを実装せよ．ただし，各形態素は表層形（surface），基本形（base），品詞（pos），品詞細分類1（pos1）をキーとするマッピング型に格納し，1文を形態素（マッピング型）のリストとして表現せよ．"
   ]
  },
  {
   "cell_type": "code",
   "execution_count": 2,
   "metadata": {
    "collapsed": false
   },
   "outputs": [],
   "source": [
    "with open('neko.txt.mecab') as data_file:\n",
    "    lines = data_file.readlines()\n",
    "data_tmp = []\n",
    "data = [[]]\n",
    "for line in lines:\n",
    "    surface_split = line.split('\\t')\n",
    "    if len(surface_split) > 1:\n",
    "        node_split = surface_split[1].split(',')\n",
    "        tmp = {\n",
    "            'surface': surface_split[0],\n",
    "            'base': node_split[6],\n",
    "            'pos': node_split[0],\n",
    "            'pos1': node_split[1]\n",
    "        }\n",
    "        data_tmp.append(tmp)\n",
    "        if node_split[1] == '句点':\n",
    "            data.append(data_tmp)\n",
    "            data_tmp = []"
   ]
  },
  {
   "cell_type": "raw",
   "metadata": {},
   "source": [
    "31.動詞の表層形をすべて抽出せよ．"
   ]
  },
  {
   "cell_type": "code",
   "execution_count": 3,
   "metadata": {
    "collapsed": false,
    "scrolled": true
   },
   "outputs": [],
   "source": [
    "verb_surface = []\n",
    "for d in data:\n",
    "    for w in d:\n",
    "        if w['pos'] == '動詞':\n",
    "#             print(w['surface'])\n",
    "            verb_surface.append(w['surface'])"
   ]
  },
  {
   "cell_type": "raw",
   "metadata": {},
   "source": [
    "32.動詞の原形をすべて抽出せよ．"
   ]
  },
  {
   "cell_type": "code",
   "execution_count": 4,
   "metadata": {
    "collapsed": false
   },
   "outputs": [],
   "source": [
    "verb_base = []\n",
    "for d in data:\n",
    "    for w in d:\n",
    "        if w['pos'] == '動詞':\n",
    "            verb_base.append(w['base'])\n",
    "#             print(w['base'])"
   ]
  },
  {
   "cell_type": "raw",
   "metadata": {},
   "source": [
    "33.サ変接続の名詞をすべて抽出せよ．"
   ]
  },
  {
   "cell_type": "code",
   "execution_count": 5,
   "metadata": {
    "collapsed": false
   },
   "outputs": [],
   "source": [
    "suffix_noun = []\n",
    "for d in data:\n",
    "    for w in d:\n",
    "        if w['pos1'] == 'サ変接続':\n",
    "            suffix_noun.append(w['surface'])\n",
    "#             print(w['surface'])"
   ]
  },
  {
   "cell_type": "raw",
   "metadata": {},
   "source": [
    "34.2つの名詞が「の」で連結されている名詞句を抽出せよ．"
   ]
  },
  {
   "cell_type": "code",
   "execution_count": 6,
   "metadata": {
    "collapsed": false
   },
   "outputs": [],
   "source": [
    "noun_phrase = []\n",
    "for d in data:\n",
    "    for n, w in enumerate(d):\n",
    "        if d[n-1]['pos'] == '名詞':\n",
    "            if w['surface'] == 'の':\n",
    "                if d[n+1]['pos'] == '名詞':\n",
    "                    noun_phrase.append(d[n-1]['surface'] + w['surface'] + d[n+1]['surface'])\n",
    "#                     print(d[n-1]['surface'] + w['surface'] + d[n+1]['surface'])"
   ]
  },
  {
   "cell_type": "raw",
   "metadata": {},
   "source": [
    "35.名詞の連接（連続して出現する名詞）を最長一致で抽出せよ．"
   ]
  },
  {
   "cell_type": "code",
   "execution_count": 7,
   "metadata": {
    "collapsed": false
   },
   "outputs": [
    {
     "name": "stdout",
     "output_type": "stream",
     "text": [
      "明治三十八年何月何日戸締り"
     ]
    }
   ],
   "source": [
    "max = 0\n",
    "arg_d = 0\n",
    "arg_w = 0\n",
    "for n1, d in enumerate(data):\n",
    "    count = 0\n",
    "    for n2, w in enumerate(d):\n",
    "        if w['pos'] == '名詞':\n",
    "            count += 1\n",
    "        else:\n",
    "            if count >= max:\n",
    "                max = count\n",
    "                arg_d = n1\n",
    "                arg_w = n2\n",
    "            count = 0\n",
    "\n",
    "for i in range(max):\n",
    "    print(data[arg_d][arg_w-max+i]['surface'], end='')"
   ]
  },
  {
   "cell_type": "raw",
   "metadata": {},
   "source": [
    "36.文章中に出現する単語とその出現頻度を求め，出現頻度の高い順に並べよ．"
   ]
  },
  {
   "cell_type": "code",
   "execution_count": 8,
   "metadata": {
    "collapsed": false
   },
   "outputs": [],
   "source": [
    "from collections import Counter\n",
    "words = []\n",
    "for d in data:\n",
    "    for w in d:\n",
    "        words.append(w['surface'])\n",
    "appear_sort = Counter(words)\n",
    "sorted_word = appear_sort.most_common()\n",
    "# for word in sorted_word:\n",
    "#     print(word)"
   ]
  },
  {
   "cell_type": "raw",
   "metadata": {},
   "source": [
    "37.出現頻度が高い10語とその出現頻度をグラフ（例えば棒グラフなど）で表示せよ．"
   ]
  },
  {
   "cell_type": "code",
   "execution_count": 9,
   "metadata": {
    "collapsed": false,
    "scrolled": true
   },
   "outputs": [
    {
     "data": {
      "image/png": "[encoded data removed]",
      "text/plain": [
       "<matplotlib.figure.Figure at 0x123bafe48>"
      ]
     },
     "metadata": {
      "image/png": {
       "height": 294,
       "width": 430
      }
     },
     "output_type": "display_data"
    }
   ],
   "source": [
    "%matplotlib inline\n",
    "from matplotlib import pyplot as plt\n",
    "\n",
    "rank10_word = []\n",
    "rank10_count = []\n",
    "for r in sorted_word[0:10]:\n",
    "    rank10_word.append(r[0])\n",
    "    rank10_count.append(r[1])\n",
    "\n",
    "plt.bar(range(10), rank10_count, tick_label = rank10_word, align='center')\n",
    "plt.show()"
   ]
  }
 ],
 "metadata": {
  "kernelspec": {
   "display_name": "Python 3",
   "language": "python",
   "name": "python3"
  },
  "language_info": {
   "codemirror_mode": {
    "name": "ipython",
    "version": 3
   },
   "file_extension": ".py",
   "mimetype": "text/x-python",
   "name": "python",
   "nbconvert_exporter": "python",
   "pygments_lexer": "ipython3",
   "version": "3.5.1"
  }
 },
 "nbformat": 4,
 "nbformat_minor": 0
}
